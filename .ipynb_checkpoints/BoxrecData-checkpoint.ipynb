{
 "cells": [
  {
   "cell_type": "code",
   "execution_count": 7,
   "metadata": {
    "ExecuteTime": {
     "end_time": "2019-05-25T16:04:33.738939Z",
     "start_time": "2019-05-25T16:04:33.723313Z"
    }
   },
   "outputs": [],
   "source": [
    "import pandas as pd\n",
    "import numpy as np\n",
    "import requests\n",
    "import re\n",
    "from bs4 import BeautifulSoup\n",
    "from datetime import date"
   ]
  },
  {
   "cell_type": "markdown",
   "metadata": {},
   "source": [
    "# make list of which posts involve fights"
   ]
  },
  {
   "cell_type": "code",
   "execution_count": 8,
   "metadata": {
    "ExecuteTime": {
     "end_time": "2019-05-25T16:04:36.910712Z",
     "start_time": "2019-05-25T16:04:35.973238Z"
    }
   },
   "outputs": [],
   "source": [
    "r=requests.get(\"http://boxrec.com/forum/viewforum.php?f=22\")\n",
    "soup=BeautifulSoup(r.text,\"html.parser\")\n",
    "soup_filter=soup.find_all(\"a\",class_=\"topictitle\")\n",
    "\n",
    "#list of fights\n",
    "templist=[]\n",
    "for i, j in enumerate(soup_filter):\n",
    "    try:\n",
    "        temp = (re.search('\\w*\\s(?=vs)', str(soup_filter[i]))[0] + re.search('(?<=vs)\\.{0,1}\\s\\w*', str(soup_filter[i]))[0])\n",
    "        if len(temp) > 1:\n",
    "            templist.append(str(j))   \n",
    "    except:\n",
    "        pass"
   ]
  },
  {
   "cell_type": "markdown",
   "metadata": {},
   "source": [
    "# list of href links from fight posts to navigate to vote pages "
   ]
  },
  {
   "cell_type": "code",
   "execution_count": 9,
   "metadata": {
    "ExecuteTime": {
     "end_time": "2019-05-25T16:04:41.863983Z",
     "start_time": "2019-05-25T16:04:41.832678Z"
    }
   },
   "outputs": [],
   "source": [
    "#fight links to polls\n",
    "fight_poll_link = []\n",
    "for i,j in enumerate(templist):\n",
    "    \n",
    "    fight_poll_link.append(str(re.search('(?<=href=\".)[^>]*',templist[i])[0].split(\";\")[0]) + str(re.search('(?<=href=\".)[^>]*',templist[i])[0].split(\";\")[1]))"
   ]
  },
  {
   "cell_type": "markdown",
   "metadata": {},
   "source": [
    "# make list of clean full URLS that include fight polls"
   ]
  },
  {
   "cell_type": "code",
   "execution_count": 10,
   "metadata": {
    "ExecuteTime": {
     "end_time": "2019-05-25T16:04:43.957611Z",
     "start_time": "2019-05-25T16:04:43.926361Z"
    }
   },
   "outputs": [],
   "source": [
    "#clean link to use for requests    \n",
    "clean_poll_link = []\n",
    "for i in fight_poll_link:\n",
    "    clean_poll_link.append(\"http://boxrec.com/forum\" + i.split(\"amp\")[0] + i.split(\"&amp\")[1])"
   ]
  },
  {
   "cell_type": "markdown",
   "metadata": {},
   "source": [
    "# create dataframe and append with each post's poll data"
   ]
  },
  {
   "cell_type": "code",
   "execution_count": 11,
   "metadata": {
    "ExecuteTime": {
     "end_time": "2019-05-25T16:04:53.330869Z",
     "start_time": "2019-05-25T16:04:47.016888Z"
    }
   },
   "outputs": [
    {
     "data": {
      "text/html": [
       "<div>\n",
       "<style scoped>\n",
       "    .dataframe tbody tr th:only-of-type {\n",
       "        vertical-align: middle;\n",
       "    }\n",
       "\n",
       "    .dataframe tbody tr th {\n",
       "        vertical-align: top;\n",
       "    }\n",
       "\n",
       "    .dataframe thead th {\n",
       "        text-align: right;\n",
       "    }\n",
       "</style>\n",
       "<table border=\"1\" class=\"dataframe\">\n",
       "  <thead>\n",
       "    <tr style=\"text-align: right;\">\n",
       "      <th></th>\n",
       "      <th>Date</th>\n",
       "      <th>Fighter1</th>\n",
       "      <th>Fighter2</th>\n",
       "      <th>Fighter1Decision</th>\n",
       "      <th>Fighter1KO</th>\n",
       "      <th>Draw</th>\n",
       "      <th>Fighter2KO</th>\n",
       "      <th>Fighter2Decision</th>\n",
       "    </tr>\n",
       "  </thead>\n",
       "  <tbody>\n",
       "    <tr>\n",
       "      <th>0</th>\n",
       "      <td>2019-04-17</td>\n",
       "      <td>Austin Trout</td>\n",
       "      <td>Terrell Gausha</td>\n",
       "      <td>4.0</td>\n",
       "      <td>0.0</td>\n",
       "      <td>0.0</td>\n",
       "      <td>1.0</td>\n",
       "      <td>1.0</td>\n",
       "    </tr>\n",
       "    <tr>\n",
       "      <th>0</th>\n",
       "      <td>2019-06-02</td>\n",
       "      <td>Anthony Joshua</td>\n",
       "      <td>Andy Ruiz</td>\n",
       "      <td>0.0</td>\n",
       "      <td>9.0</td>\n",
       "      <td>0.0</td>\n",
       "      <td>4.0</td>\n",
       "      <td>0.0</td>\n",
       "    </tr>\n",
       "    <tr>\n",
       "      <th>0</th>\n",
       "      <td>2019-06-29</td>\n",
       "      <td>Demetrius Andrade</td>\n",
       "      <td>Maciej Sulecki</td>\n",
       "      <td>15.0</td>\n",
       "      <td>2.0</td>\n",
       "      <td>1.0</td>\n",
       "      <td>2.0</td>\n",
       "      <td>1.0</td>\n",
       "    </tr>\n",
       "    <tr>\n",
       "      <th>0</th>\n",
       "      <td>2019-06-15</td>\n",
       "      <td>Mairis Briedis</td>\n",
       "      <td>Krzysztof Glowacki</td>\n",
       "      <td>8.0</td>\n",
       "      <td>3.0</td>\n",
       "      <td>0.0</td>\n",
       "      <td>0.0</td>\n",
       "      <td>4.0</td>\n",
       "    </tr>\n",
       "    <tr>\n",
       "      <th>0</th>\n",
       "      <td>2019-05-15</td>\n",
       "      <td>Michael Hunter</td>\n",
       "      <td>Fabio Maldonado</td>\n",
       "      <td>5.0</td>\n",
       "      <td>8.0</td>\n",
       "      <td>0.0</td>\n",
       "      <td>1.0</td>\n",
       "      <td>0.0</td>\n",
       "    </tr>\n",
       "    <tr>\n",
       "      <th>0</th>\n",
       "      <td>2019-07-12</td>\n",
       "      <td>Rob Brant</td>\n",
       "      <td>Ryota Murata</td>\n",
       "      <td>4.0</td>\n",
       "      <td>2.0</td>\n",
       "      <td>0.0</td>\n",
       "      <td>2.0</td>\n",
       "      <td>3.0</td>\n",
       "    </tr>\n",
       "    <tr>\n",
       "      <th>0</th>\n",
       "      <td>2019-09-15</td>\n",
       "      <td>Naoya Inoue</td>\n",
       "      <td>Nonito Donaire</td>\n",
       "      <td>0.0</td>\n",
       "      <td>27.0</td>\n",
       "      <td>0.0</td>\n",
       "      <td>0.0</td>\n",
       "      <td>0.0</td>\n",
       "    </tr>\n",
       "  </tbody>\n",
       "</table>\n",
       "</div>"
      ],
      "text/plain": [
       "        Date           Fighter1            Fighter2  Fighter1Decision  \\\n",
       "0 2019-04-17       Austin Trout      Terrell Gausha               4.0   \n",
       "0 2019-06-02     Anthony Joshua           Andy Ruiz               0.0   \n",
       "0 2019-06-29  Demetrius Andrade      Maciej Sulecki              15.0   \n",
       "0 2019-06-15     Mairis Briedis  Krzysztof Glowacki               8.0   \n",
       "0 2019-05-15     Michael Hunter     Fabio Maldonado               5.0   \n",
       "0 2019-07-12          Rob Brant        Ryota Murata               4.0   \n",
       "0 2019-09-15        Naoya Inoue      Nonito Donaire               0.0   \n",
       "\n",
       "   Fighter1KO  Draw  Fighter2KO  Fighter2Decision  \n",
       "0         0.0   0.0         1.0               1.0  \n",
       "0         9.0   0.0         4.0               0.0  \n",
       "0         2.0   1.0         2.0               1.0  \n",
       "0         3.0   0.0         0.0               4.0  \n",
       "0         8.0   0.0         1.0               0.0  \n",
       "0         2.0   0.0         2.0               3.0  \n",
       "0        27.0   0.0         0.0               0.0  "
      ]
     },
     "execution_count": 11,
     "metadata": {},
     "output_type": "execute_result"
    }
   ],
   "source": [
    "#final df\n",
    "boxrec_fight_polls = pd.DataFrame({\n",
    "                                        \"Date\":[]\n",
    "                                       ,\"Fighter1\":[]\n",
    "                                       ,\"Fighter2\":[]\n",
    "                                       ,\"Fighter1Decision\":[]\n",
    "                                       ,\"Fighter1KO\":[]\n",
    "                                       ,\"Draw\":[]\n",
    "                                       ,\"Fighter2KO\":[]\n",
    "                                       ,\"Fighter2Decision\":[]\n",
    "                                  })\n",
    "\n",
    "#add data for each column per fight\n",
    "for i in clean_poll_link:\n",
    "    temp_request=requests.get(i)\n",
    "    temp_soup=BeautifulSoup(temp_request.text,\"html.parser\")\n",
    "    try:    \n",
    "        temp_df = pd.DataFrame({\n",
    "                                 \"Date\":[re.search(\"\\d{1,2}\\s\\w{3}\\s\\d{4}\",str(temp_soup.find_all(\"div\",\"content\")))[0]]\n",
    "                                ,\"Fighter1\":[re.search(\"\\w*\\s\\w*(?= vs.)\",str(temp_soup.find_all(\"h2\",\"topic-title\")))[0]]\n",
    "                                ,\"Fighter2\":[re.search(\"(?<= vs. )\\w*\\s\\w*\",str(temp_soup.find_all(\"h2\",\"topic-title\")))[0]]\n",
    "                                ,\"Fighter1Decision\":[int(re.findall(\"(?<=>)\\d*(?=</div>)\",str(temp_soup.find_all(\"div\",\"content\")))[0])]\n",
    "                                ,\"Fighter1KO\":[int(re.findall(\"(?<=>)\\d*(?=</div>)\",str(temp_soup.find_all(\"div\",\"content\")))[1])]\n",
    "                                ,\"Draw\":[int(re.findall(\"(?<=>)\\d*(?=</div>)\",str(temp_soup.find_all(\"div\",\"content\")))[2])]\n",
    "                                ,\"Fighter2KO\":[int(re.findall(\"(?<=>)\\d*(?=</div>)\",str(temp_soup.find_all(\"div\",\"content\")))[3])]\n",
    "                                ,\"Fighter2Decision\":[int(re.findall(\"(?<=>)\\d*(?=</div>)\",str(temp_soup.find_all(\"div\",\"content\")))[4])]\n",
    "                             })\n",
    "        \n",
    "        boxrec_fight_polls = pd.concat([boxrec_fight_polls,temp_df])\n",
    "    \n",
    "    except:\n",
    "        pass\n",
    "boxrec_fight_polls['Date'] =  pd.to_datetime(boxrec_fight_polls['Date'],format='%d %b %Y')\n",
    "boxrec_fight_polls"
   ]
  },
  {
   "cell_type": "code",
   "execution_count": null,
   "metadata": {},
   "outputs": [],
   "source": [
    "#start to end pages of boxrec forum to scrape, each page goes up in 50s\n",
    "#list(range(50,15700,50))\n",
    "http://boxrec.com/forum/viewforum.php?f=22&start=50\n",
    "http://boxrec.com/forum/viewforum.php?f=22&start=15650"
   ]
  }
 ],
 "metadata": {
  "kernelspec": {
   "display_name": "Python 3",
   "language": "python",
   "name": "python3"
  },
  "language_info": {
   "codemirror_mode": {
    "name": "ipython",
    "version": 3
   },
   "file_extension": ".py",
   "mimetype": "text/x-python",
   "name": "python",
   "nbconvert_exporter": "python",
   "pygments_lexer": "ipython3",
   "version": "3.7.1"
  },
  "varInspector": {
   "cols": {
    "lenName": 16,
    "lenType": 16,
    "lenVar": 40
   },
   "kernels_config": {
    "python": {
     "delete_cmd_postfix": "",
     "delete_cmd_prefix": "del ",
     "library": "var_list.py",
     "varRefreshCmd": "print(var_dic_list())"
    },
    "r": {
     "delete_cmd_postfix": ") ",
     "delete_cmd_prefix": "rm(",
     "library": "var_list.r",
     "varRefreshCmd": "cat(var_dic_list()) "
    }
   },
   "types_to_exclude": [
    "module",
    "function",
    "builtin_function_or_method",
    "instance",
    "_Feature"
   ],
   "window_display": false
  }
 },
 "nbformat": 4,
 "nbformat_minor": 2
}
