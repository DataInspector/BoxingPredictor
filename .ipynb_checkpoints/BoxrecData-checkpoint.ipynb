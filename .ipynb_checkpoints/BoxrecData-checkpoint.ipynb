{
 "cells": [
  {
   "cell_type": "code",
   "execution_count": null,
   "metadata": {
    "ExecuteTime": {
     "end_time": "2019-05-23T18:11:41.992064Z",
     "start_time": "2019-05-23T18:11:36.150207Z"
    }
   },
   "outputs": [],
   "source": [
    "import pandas as pd\n",
    "import numpy as np\n",
    "import re\n",
    "import requests\n",
    "from datetime import date\n",
    "from bs4 import BeautifulSoup"
   ]
  },
  {
   "cell_type": "code",
   "execution_count": 25,
   "metadata": {
    "ExecuteTime": {
     "end_time": "2019-05-23T18:35:27.591998Z",
     "start_time": "2019-05-23T18:35:15.734136Z"
    }
   },
   "outputs": [
    {
     "data": {
      "text/html": [
       "<div>\n",
       "<style scoped>\n",
       "    .dataframe tbody tr th:only-of-type {\n",
       "        vertical-align: middle;\n",
       "    }\n",
       "\n",
       "    .dataframe tbody tr th {\n",
       "        vertical-align: top;\n",
       "    }\n",
       "\n",
       "    .dataframe thead th {\n",
       "        text-align: right;\n",
       "    }\n",
       "</style>\n",
       "<table border=\"1\" class=\"dataframe\">\n",
       "  <thead>\n",
       "    <tr style=\"text-align: right;\">\n",
       "      <th></th>\n",
       "      <th>Date</th>\n",
       "      <th>Fighter1</th>\n",
       "      <th>Fighter2</th>\n",
       "      <th>Fighter1Decision</th>\n",
       "      <th>Fighter1KO</th>\n",
       "      <th>Draw</th>\n",
       "      <th>Fighter2KO</th>\n",
       "      <th>Fighter2Decision</th>\n",
       "    </tr>\n",
       "  </thead>\n",
       "  <tbody>\n",
       "    <tr>\n",
       "      <th>0</th>\n",
       "      <td>2019-07-20</td>\n",
       "      <td>&lt;re.Match object; span=(110, 121), match='Cale...</td>\n",
       "      <td>Lee</td>\n",
       "      <td>6.0</td>\n",
       "      <td>3.0</td>\n",
       "      <td>0.0</td>\n",
       "      <td>0.0</td>\n",
       "      <td>1.0</td>\n",
       "    </tr>\n",
       "    <tr>\n",
       "      <th>0</th>\n",
       "      <td>2019-07-20</td>\n",
       "      <td>&lt;re.Match object; span=(110, 124), match='Mann...</td>\n",
       "      <td>Thurman</td>\n",
       "      <td>6.0</td>\n",
       "      <td>6.0</td>\n",
       "      <td>0.0</td>\n",
       "      <td>4.0</td>\n",
       "      <td>16.0</td>\n",
       "    </tr>\n",
       "    <tr>\n",
       "      <th>0</th>\n",
       "      <td>2019-09-15</td>\n",
       "      <td>&lt;re.Match object; span=(135, 146), match='Naoy...</td>\n",
       "      <td>Donaire</td>\n",
       "      <td>0.0</td>\n",
       "      <td>26.0</td>\n",
       "      <td>0.0</td>\n",
       "      <td>0.0</td>\n",
       "      <td>0.0</td>\n",
       "    </tr>\n",
       "    <tr>\n",
       "      <th>0</th>\n",
       "      <td>2019-08-04</td>\n",
       "      <td>&lt;re.Match object; span=(110, 123), match='Marc...</td>\n",
       "      <td>Pascal</td>\n",
       "      <td>6.0</td>\n",
       "      <td>11.0</td>\n",
       "      <td>1.0</td>\n",
       "      <td>0.0</td>\n",
       "      <td>0.0</td>\n",
       "    </tr>\n",
       "    <tr>\n",
       "      <th>0</th>\n",
       "      <td>2019-07-12</td>\n",
       "      <td>&lt;re.Match object; span=(110, 121), match='Otto...</td>\n",
       "      <td>Flores</td>\n",
       "      <td>1.0</td>\n",
       "      <td>8.0</td>\n",
       "      <td>0.0</td>\n",
       "      <td>0.0</td>\n",
       "      <td>0.0</td>\n",
       "    </tr>\n",
       "    <tr>\n",
       "      <th>0</th>\n",
       "      <td>2019-06-29</td>\n",
       "      <td>&lt;re.Match object; span=(110, 127), match='Deme...</td>\n",
       "      <td>Sulecki</td>\n",
       "      <td>14.0</td>\n",
       "      <td>2.0</td>\n",
       "      <td>1.0</td>\n",
       "      <td>2.0</td>\n",
       "      <td>1.0</td>\n",
       "    </tr>\n",
       "    <tr>\n",
       "      <th>0</th>\n",
       "      <td>2019-05-26</td>\n",
       "      <td>&lt;re.Match object; span=(110, 123), match='Fili...</td>\n",
       "      <td>Corbin</td>\n",
       "      <td>1.0</td>\n",
       "      <td>31.0</td>\n",
       "      <td>0.0</td>\n",
       "      <td>1.0</td>\n",
       "      <td>0.0</td>\n",
       "    </tr>\n",
       "    <tr>\n",
       "      <th>0</th>\n",
       "      <td>2019-06-15</td>\n",
       "      <td>&lt;re.Match object; span=(142, 156), match='Mair...</td>\n",
       "      <td>Glowacki</td>\n",
       "      <td>8.0</td>\n",
       "      <td>3.0</td>\n",
       "      <td>0.0</td>\n",
       "      <td>0.0</td>\n",
       "      <td>4.0</td>\n",
       "    </tr>\n",
       "    <tr>\n",
       "      <th>0</th>\n",
       "      <td>2019-06-15</td>\n",
       "      <td>&lt;re.Match object; span=(142, 157), match='Yuni...</td>\n",
       "      <td>Tabiti</td>\n",
       "      <td>0.0</td>\n",
       "      <td>3.0</td>\n",
       "      <td>0.0</td>\n",
       "      <td>1.0</td>\n",
       "      <td>7.0</td>\n",
       "    </tr>\n",
       "    <tr>\n",
       "      <th>0</th>\n",
       "      <td>2019-06-07</td>\n",
       "      <td>&lt;re.Match object; span=(110, 119), match='Zab ...</td>\n",
       "      <td>Seldin</td>\n",
       "      <td>2.0</td>\n",
       "      <td>1.0</td>\n",
       "      <td>0.0</td>\n",
       "      <td>3.0</td>\n",
       "      <td>0.0</td>\n",
       "    </tr>\n",
       "  </tbody>\n",
       "</table>\n",
       "</div>"
      ],
      "text/plain": [
       "        Date                                           Fighter1  Fighter2  \\\n",
       "0 2019-07-20  <re.Match object; span=(110, 121), match='Cale...       Lee   \n",
       "0 2019-07-20  <re.Match object; span=(110, 124), match='Mann...   Thurman   \n",
       "0 2019-09-15  <re.Match object; span=(135, 146), match='Naoy...   Donaire   \n",
       "0 2019-08-04  <re.Match object; span=(110, 123), match='Marc...    Pascal   \n",
       "0 2019-07-12  <re.Match object; span=(110, 121), match='Otto...    Flores   \n",
       "0 2019-06-29  <re.Match object; span=(110, 127), match='Deme...   Sulecki   \n",
       "0 2019-05-26  <re.Match object; span=(110, 123), match='Fili...    Corbin   \n",
       "0 2019-06-15  <re.Match object; span=(142, 156), match='Mair...  Glowacki   \n",
       "0 2019-06-15  <re.Match object; span=(142, 157), match='Yuni...    Tabiti   \n",
       "0 2019-06-07  <re.Match object; span=(110, 119), match='Zab ...    Seldin   \n",
       "\n",
       "   Fighter1Decision  Fighter1KO  Draw  Fighter2KO  Fighter2Decision  \n",
       "0               6.0         3.0   0.0         0.0               1.0  \n",
       "0               6.0         6.0   0.0         4.0              16.0  \n",
       "0               0.0        26.0   0.0         0.0               0.0  \n",
       "0               6.0        11.0   1.0         0.0               0.0  \n",
       "0               1.0         8.0   0.0         0.0               0.0  \n",
       "0              14.0         2.0   1.0         2.0               1.0  \n",
       "0               1.0        31.0   0.0         1.0               0.0  \n",
       "0               8.0         3.0   0.0         0.0               4.0  \n",
       "0               0.0         3.0   0.0         1.0               7.0  \n",
       "0               2.0         1.0   0.0         3.0               0.0  "
      ]
     },
     "execution_count": 25,
     "metadata": {},
     "output_type": "execute_result"
    }
   ],
   "source": [
    "r=requests.get(\"http://boxrec.com/forum/viewforum.php?f=22\")\n",
    "soup=BeautifulSoup(r.text,\"html.parser\")\n",
    "soup_filter=soup.find_all(\"a\",class_=\"topictitle\")\n",
    "\n",
    "#list of fights\n",
    "templist=[]\n",
    "for i, j in enumerate(soup_filter):\n",
    "    try:\n",
    "        temp = (re.search('\\w*\\s(?=vs)', str(soup_filter[i]))[0] + re.search('(?<=vs)\\.{0,1}\\s\\w*', str(soup_filter[i]))[0])\n",
    "        if len(temp) > 1:\n",
    "            templist.append(str(j))   \n",
    "    except:\n",
    "        pass\n",
    "\n",
    "#fight links to polls\n",
    "fight_poll_link = []\n",
    "for i,j in enumerate(templist):\n",
    "    \n",
    "    fight_poll_link.append(str(re.search('(?<=href=\".)[^>]*',templist[i])[0].split(\";\")[0]) + str(re.search('(?<=href=\".)[^>]*',templist[i])[0].split(\";\")[1]))\n",
    "\n",
    "#clean link to use for requests    \n",
    "clean_poll_link = []\n",
    "for i in fight_poll_link:\n",
    "    clean_poll_link.append(\"http://boxrec.com/forum\" + i.split(\"amp\")[0] + i.split(\"&amp\")[1])\n",
    "\n",
    "#final df\n",
    "boxrec_fight_polls = pd.DataFrame({\n",
    "                                        \"Date\":[]\n",
    "                                       ,\"Fighter1\":[]\n",
    "                                       ,\"Fighter2\":[]\n",
    "                                       ,\"Fighter1Decision\":[]\n",
    "                                       ,\"Fighter1KO\":[]\n",
    "                                       ,\"Draw\":[]\n",
    "                                       ,\"Fighter2KO\":[]\n",
    "                                       ,\"Fighter2Decision\":[]\n",
    "                                  })\n",
    "\n",
    "#add data for each column per fight\n",
    "for i in clean_poll_link:\n",
    "    temp_request=requests.get(i)\n",
    "    temp_soup=BeautifulSoup(temp_request.text,\"html.parser\")\n",
    "    try:    \n",
    "        temp_df = pd.DataFrame({\n",
    "                                 \"Date\":[re.search(\"\\d{1,2}\\s\\w{3}\\s\\d{4}\",str(temp_soup.find_all(\"div\",\"content\")))[0]]\n",
    "                                ,\"Fighter1\":[str(re.search(\"\\w*\\s\\w*(?= vs.)\",str(temp_soup.find_all(\"h2\",\"topic-title\"))))]\n",
    "                                ,\"Fighter2\":[re.findall(\"(?<=>).*(?= - Decision)\",str(temp_soup.find_all(\"div\",\"content\")))[1]]\n",
    "                                ,\"Fighter1Decision\":[int(re.findall(\"(?<=>)\\d*(?=</div>)\",str(temp_soup.find_all(\"div\",\"content\")))[0])]\n",
    "                                ,\"Fighter1KO\":[int(re.findall(\"(?<=>)\\d*(?=</div>)\",str(temp_soup.find_all(\"div\",\"content\")))[1])]\n",
    "                                ,\"Draw\":[int(re.findall(\"(?<=>)\\d*(?=</div>)\",str(temp_soup.find_all(\"div\",\"content\")))[2])]\n",
    "                                ,\"Fighter2KO\":[int(re.findall(\"(?<=>)\\d*(?=</div>)\",str(temp_soup.find_all(\"div\",\"content\")))[3])]\n",
    "                                ,\"Fighter2Decision\":[int(re.findall(\"(?<=>)\\d*(?=</div>)\",str(temp_soup.find_all(\"div\",\"content\")))[4])]\n",
    "                             })\n",
    "       \n",
    "        boxrec_fight_polls = pd.concat([boxrec_fight_polls,temp_df])\n",
    "    except:\n",
    "        pass\n",
    "boxrec_fight_polls['Date'] =  pd.to_datetime(boxrec_fight_polls['Date'],format='%d %b %Y')\n",
    "boxrec_fight_polls"
   ]
  },
  {
   "cell_type": "code",
   "execution_count": 15,
   "metadata": {
    "ExecuteTime": {
     "end_time": "2019-05-23T18:23:34.573896Z",
     "start_time": "2019-05-23T18:23:34.402033Z"
    }
   },
   "outputs": [],
   "source": [
    "tester = requests.get(clean_poll_link[1])"
   ]
  },
  {
   "cell_type": "code",
   "execution_count": 16,
   "metadata": {
    "ExecuteTime": {
     "end_time": "2019-05-23T18:24:08.474875Z",
     "start_time": "2019-05-23T18:24:08.271762Z"
    }
   },
   "outputs": [],
   "source": [
    "testersoup=BeautifulSoup(tester.text,\"html.parser\")"
   ]
  },
  {
   "cell_type": "code",
   "execution_count": 23,
   "metadata": {
    "ExecuteTime": {
     "end_time": "2019-05-23T18:31:42.157463Z",
     "start_time": "2019-05-23T18:31:42.110589Z"
    }
   },
   "outputs": [
    {
     "data": {
      "text/plain": [
       "\"<re.Match object; span=(110, 121), match='Caleb Plant'>\""
      ]
     },
     "execution_count": 23,
     "metadata": {},
     "output_type": "execute_result"
    }
   ],
   "source": [
    "str(re.search(\"\\w*\\s\\w*(?= vs.)\",str(testersoup.find_all(\"h2\",class_=\"topic-title\"))))"
   ]
  },
  {
   "cell_type": "code",
   "execution_count": 21,
   "metadata": {
    "ExecuteTime": {
     "end_time": "2019-05-23T18:30:29.668825Z",
     "start_time": "2019-05-23T18:30:29.637569Z"
    }
   },
   "outputs": [
    {
     "data": {
      "text/plain": [
       "<re.Match object; span=(110, 121), match='Caleb Plant'>"
      ]
     },
     "execution_count": 21,
     "metadata": {},
     "output_type": "execute_result"
    }
   ],
   "source": [
    "re.search(\"\\w*\\s\\w*(?= vs.)\",str(testing))"
   ]
  },
  {
   "cell_type": "code",
   "execution_count": null,
   "metadata": {},
   "outputs": [],
   "source": [
    "http://boxrec.com/forum/viewforum.php?f=22&start=50\n",
    "http://boxrec.com/forum/viewforum.php?f=22&start=15650"
   ]
  }
 ],
 "metadata": {
  "kernelspec": {
   "display_name": "Python 3",
   "language": "python",
   "name": "python3"
  },
  "varInspector": {
   "cols": {
    "lenName": 16,
    "lenType": 16,
    "lenVar": 40
   },
   "kernels_config": {
    "python": {
     "delete_cmd_postfix": "",
     "delete_cmd_prefix": "del ",
     "library": "var_list.py",
     "varRefreshCmd": "print(var_dic_list())"
    },
    "r": {
     "delete_cmd_postfix": ") ",
     "delete_cmd_prefix": "rm(",
     "library": "var_list.r",
     "varRefreshCmd": "cat(var_dic_list()) "
    }
   },
   "types_to_exclude": [
    "module",
    "function",
    "builtin_function_or_method",
    "instance",
    "_Feature"
   ],
   "window_display": false
  }
 },
 "nbformat": 4,
 "nbformat_minor": 2
}
